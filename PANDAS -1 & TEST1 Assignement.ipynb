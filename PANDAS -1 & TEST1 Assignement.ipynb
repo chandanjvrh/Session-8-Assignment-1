{
 "cells": [
  {
   "cell_type": "markdown",
   "metadata": {},
   "source": [
    "1) How-to-count-distance-to-the-previous-zero\n",
    "\n",
    "For each value, count the difference of the distance from the previous zero (or the start\n",
    "of the Series, whichever is closer) and if there are no previous zeros,print the position\n",
    "\n",
    "Consider a DataFrame df where there is an integer column {'X':7, 2, 0, 3, 4, 2, 5, 0, 3, 4]}\n",
    "\n",
    "The values should therefore be [1, 2, 0, 1, 2, 3, 4, 0, 1, 2]. Make this a new column 'Y'.\n",
    "\n",
    "import pandas as pd\n",
    "\n",
    "df = pd.DataFrame({'X': [7, 2, 0, 3, 4, 2, 5, 0, 3, 4]})"
   ]
  },
  {
   "cell_type": "code",
   "execution_count": 1,
   "metadata": {},
   "outputs": [
    {
     "name": "stdout",
     "output_type": "stream",
     "text": [
      "   X  Y\n",
      "0  7  0\n",
      "1  2  1\n",
      "2  0  0\n",
      "3  3  1\n",
      "4  4  2\n",
      "5  2  3\n",
      "6  5  4\n",
      "7  0  0\n",
      "8  3  1\n",
      "9  4  2\n"
     ]
    }
   ],
   "source": [
    "import pandas as pd\n",
    "import numpy as np\n",
    "\n",
    "df = pd.DataFrame({'X': [7, 2, 0, 3, 4, 2, 5, 0, 3, 4]})\n",
    "df_series=df['X']\n",
    "final_list=[]\n",
    "prev_index=0\n",
    "\n",
    "for i in df_series.index:\n",
    "    if df_series[i] == 0:\n",
    "        final_list.append(0)\n",
    "        prev_index=i\n",
    "    else:\n",
    "        j=i-prev_index\n",
    "        final_list.append(j)\n",
    "       \n",
    "df['Y']=final_list\n",
    "\n",
    "print(df)"
   ]
  },
  {
   "cell_type": "markdown",
   "metadata": {},
   "source": [
    "2) Create a DatetimeIndex that contains each business day of 2015 and use it to index a\n",
    "Series of random numbers."
   ]
  },
  {
   "cell_type": "code",
   "execution_count": 2,
   "metadata": {},
   "outputs": [
    {
     "data": {
      "text/plain": [
       "2015-01-01    0.226366\n",
       "2015-01-02    0.462649\n",
       "2015-01-05    0.650221\n",
       "2015-01-06    0.052559\n",
       "2015-01-07    0.566137\n",
       "2015-01-08    0.311615\n",
       "2015-01-09    0.759189\n",
       "2015-01-12    0.588848\n",
       "2015-01-13    0.612810\n",
       "2015-01-14    0.446125\n",
       "2015-01-15    0.771348\n",
       "2015-01-16    0.918582\n",
       "2015-01-19    0.535696\n",
       "2015-01-20    0.884096\n",
       "2015-01-21    0.797474\n",
       "2015-01-22    0.589044\n",
       "2015-01-23    0.953846\n",
       "2015-01-26    0.570499\n",
       "2015-01-27    0.893707\n",
       "2015-01-28    0.934743\n",
       "2015-01-29    0.768572\n",
       "2015-01-30    0.822253\n",
       "2015-02-02    0.212889\n",
       "2015-02-03    0.862160\n",
       "2015-02-04    0.958765\n",
       "2015-02-05    0.988454\n",
       "2015-02-06    0.863951\n",
       "2015-02-09    0.249140\n",
       "2015-02-10    0.763928\n",
       "2015-02-11    0.260578\n",
       "                ...   \n",
       "2015-11-20    0.844377\n",
       "2015-11-23    0.741450\n",
       "2015-11-24    0.635414\n",
       "2015-11-25    0.094324\n",
       "2015-11-26    0.996599\n",
       "2015-11-27    0.709727\n",
       "2015-11-30    0.941511\n",
       "2015-12-01    0.969289\n",
       "2015-12-02    0.305961\n",
       "2015-12-03    0.483366\n",
       "2015-12-04    0.232788\n",
       "2015-12-07    0.462392\n",
       "2015-12-08    0.206612\n",
       "2015-12-09    0.195231\n",
       "2015-12-10    0.531913\n",
       "2015-12-11    0.160791\n",
       "2015-12-14    0.962596\n",
       "2015-12-15    0.056907\n",
       "2015-12-16    0.981272\n",
       "2015-12-17    0.602158\n",
       "2015-12-18    0.268945\n",
       "2015-12-21    0.240228\n",
       "2015-12-22    0.210374\n",
       "2015-12-23    0.792032\n",
       "2015-12-24    0.817524\n",
       "2015-12-25    0.587076\n",
       "2015-12-28    0.404254\n",
       "2015-12-29    0.682265\n",
       "2015-12-30    0.921249\n",
       "2015-12-31    0.181699\n",
       "Freq: B, Name: VALUE, Length: 261, dtype: float64"
      ]
     },
     "execution_count": 2,
     "metadata": {},
     "output_type": "execute_result"
    }
   ],
   "source": [
    "import random\n",
    "\n",
    "dti_vals=pd.DatetimeIndex(freq='B',start='2015',end='2016',closed='left')\n",
    "\n",
    "ran_num=np.random.rand(dti_vals.size)\n",
    "final_series=pd.Series(ran_num,index=dti_vals,name='VALUE')\n",
    "final_series"
   ]
  },
  {
   "cell_type": "markdown",
   "metadata": {},
   "source": [
    "3) Find the sum of the values in s for every Wednesday"
   ]
  },
  {
   "cell_type": "code",
   "execution_count": 3,
   "metadata": {},
   "outputs": [
    {
     "name": "stdout",
     "output_type": "stream",
     "text": [
      "Sum of values of for every Wednesday is 29.945973243335562\n"
     ]
    }
   ],
   "source": [
    "import datetime as dt\n",
    "s = 0\n",
    "\n",
    "for i in final_series.index:\n",
    "    if dt.datetime(i.year,i.month,i.day).weekday() == 2:\n",
    "        s=s+final_series[i]       \n",
    "print(\"Sum of values of for every Wednesday is {}\".format(s))"
   ]
  },
  {
   "cell_type": "markdown",
   "metadata": {},
   "source": [
    "4) Average For each calendar month"
   ]
  },
  {
   "cell_type": "code",
   "execution_count": 6,
   "metadata": {},
   "outputs": [
    {
     "name": "stdout",
     "output_type": "stream",
     "text": [
      "Average for January is : 0.3283318039846966\n",
      "Average for February is : 0.4194972817189793\n",
      "Average for March is : 0.03729996481603451\n",
      "Average for April is : 0.4017743726168722\n",
      "Average for May is : 0.21109408712600308\n",
      "Average for June is : 0.5387793971354632\n",
      "Average for July is : 0.4368873936508987\n",
      "Average for August is : 0.4151290412029382\n",
      "Average for September is : 0.31660484872850464\n",
      "Average for October is : 0.5474082552317578\n",
      "Average for November is : 0.6222655135626177\n",
      "Average for December is : 0.3974520199874157\n"
     ]
    }
   ],
   "source": [
    "import calendar as c\n",
    "\n",
    "for i in range(1,13):\n",
    "    s = 0.0\n",
    "    for j in final_series.index:\n",
    "        if j.month == i:\n",
    "            s=s+final_series[i]\n",
    "    no_days=c.monthrange(j.year,j.month)[1]\n",
    "\n",
    "    avg = s / no_days\n",
    "\n",
    "    print(\"Average for {} is : {}\".format(c.month_name[i],avg))"
   ]
  },
  {
   "cell_type": "markdown",
   "metadata": {},
   "source": [
    "5) For each group of four consecutive calendar months in s, find the date on which the\n",
    "highest value occurred."
   ]
  },
  {
   "cell_type": "code",
   "execution_count": 8,
   "metadata": {},
   "outputs": [
    {
     "name": "stdout",
     "output_type": "stream",
     "text": [
      "Date on which the highest value occured is : 2015-01-23 00:00:00\n",
      "Date on which the highest value occured is : 2015-04-27 00:00:00\n",
      "Date on which the highest value occured is : 2015-06-17 00:00:00\n",
      "Date on which the highest value occured is : 2015-11-26 00:00:00\n"
     ]
    }
   ],
   "source": [
    "series_resample=final_series.resample('4M',closed='right').max()\n",
    "df=pd.DataFrame(final_series)\n",
    "\n",
    "for i in series_resample.values:\n",
    "    print(\"Date on which the highest value occured is : {}\".format(df[df['VALUE'] == i].index.tolist()[0]))"
   ]
  }
 ],
 "metadata": {
  "kernelspec": {
   "display_name": "Python 3",
   "language": "python",
   "name": "python3"
  },
  "language_info": {
   "codemirror_mode": {
    "name": "ipython",
    "version": 3
   },
   "file_extension": ".py",
   "mimetype": "text/x-python",
   "name": "python",
   "nbconvert_exporter": "python",
   "pygments_lexer": "ipython3",
   "version": "3.7.0"
  }
 },
 "nbformat": 4,
 "nbformat_minor": 2
}
